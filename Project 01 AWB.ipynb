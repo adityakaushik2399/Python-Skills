{
 "cells": [
  {
   "cell_type": "markdown",
   "metadata": {},
   "source": [
    "# PROJECT AWB"
   ]
  },
  {
   "cell_type": "code",
   "execution_count": null,
   "metadata": {},
   "outputs": [],
   "source": [
    "import pymysql"
   ]
  },
  {
   "cell_type": "code",
   "execution_count": 2,
   "metadata": {},
   "outputs": [],
   "source": [
    "conn=pymysql.Connect(host=\"localhost\",user=\"root\",password=\"\",db=\"awb\")\n"
   ]
  },
  {
   "cell_type": "code",
   "execution_count": 3,
   "metadata": {},
   "outputs": [],
   "source": [
    "cursor=conn.cursor()\n"
   ]
  },
  {
   "cell_type": "code",
   "execution_count": null,
   "metadata": {},
   "outputs": [],
   "source": []
  },
  {
   "cell_type": "code",
   "execution_count": null,
   "metadata": {},
   "outputs": [
    {
     "name": "stdout",
     "output_type": "stream",
     "text": [
      "\n",
      " 1 : AWB BOOKING \n",
      " 2 : AWB TRACKING \n",
      " 3 : AWB LISTING \n",
      " 4 : EXIT\n",
      "\n",
      " Enter your choice:  3\n",
      "COMPLETE DETAILS \n",
      "\n",
      "Total number of rows in AWB Courier is -  3\n",
      "\n",
      " Printing each row's column values \n",
      " \n",
      "AWB_No  S_Name          SPhNo           Rec_Name        Rec_Addr             Rec_PhNo        Shp_Date   Shp_Time  \n",
      "--------------------------------------------------------------------------------\n",
      "2318    Aditya          229933          Harsh           Nagpur               2443553        22:48:34      2019-06-23\n",
      "6354    Jerin           939349          Manan           New Delhi            332442         9:27:17      2019-06-24\n",
      "39922   Bjnor           209             Fgvtor          Czech                77364          20:13:52      2019-06-22\n",
      "\n",
      " 1 : AWB BOOKING \n",
      " 2 : AWB TRACKING \n",
      " 3 : AWB LISTING \n",
      " 4 : EXIT\n"
     ]
    }
   ],
   "source": [
    "import pymysql\n",
    "conn=pymysql.Connect(host=\"localhost\",user=\"root\",password=\"\",db=\"awb\")\n",
    "cursor=conn.cursor()\n",
    "\n",
    "for i in range(0,100):\n",
    "    print(\"\\n 1 : AWB BOOKING \\n 2 : AWB TRACKING \\n 3 : AWB LISTING \\n 4 : EXIT\")\n",
    "    i=int(input(\"\\n Enter your choice:  \"))\n",
    "\n",
    "    if i==1:\n",
    "        print(\"\\n Enter the Details for your Courier \\n\")\n",
    "        an=int(input(\"Enter awb no: \"))\n",
    "        sname=str(input(\"Enter sender name: \"))\n",
    "        spn=int(input(\"Enter sender ph no: \"))\n",
    "        rname=str(input(\"Enter rec name: \"))\n",
    "        raddr=str(input(\"Enter rec addr: \"))\n",
    "        rpn=int(input(\"Enter rec ph no: \"))\n",
    "\n",
    "        sql=\"INSERT INTO courier(AWB_No,Sender_Name,Sender_PhNo,Rec_Name,Rec_Addr,Rec_PhNo,Shp_Date,Shp_Time)values(%s,%s,%s,%s,%s,%s,curdate(),now())\"\n",
    "        tup=(an,sname,spn,rname,raddr,rpn)\n",
    "        cursor.execute(sql,tup)\n",
    "        conn.commit()\n",
    "        print(\"\\n BOOKING DONE\")\n",
    "    \n",
    "    if i==2:\n",
    "        print(\"\\n Fetch the Details of your Courier \\n\")\n",
    "        an=input(\"Enter AWB No:   \")\n",
    "        sql=\"SELECT * from courier where AWB_No=%s;\"\n",
    "        #tup=(an)\n",
    "        cursor.execute(sql,an)\n",
    "        row=cursor.fetchone()\n",
    "        \n",
    "        \n",
    "        print(\"AWB_No = \", row[0])\n",
    "        print(\"Sender's Name = \", row[1])\n",
    "        print(\"Sender's_PhNo  = \", row[2])\n",
    "        print(\"Rec_Name  = \", row[3])\n",
    "        print(\"Rec_Addr = \", row[4])\n",
    "        print(\"Rec_PhNo = \", row[5])\n",
    "        print(\"Ship_Date = \", row[6])\n",
    "        print(\"Ship_Time = \", row[7])\n",
    "            \n",
    "      \n",
    "    if i==3:\n",
    "        print(\"COMPLETE DETAILS \\n\")\n",
    "        sql=\"SELECT * from courier;\"\n",
    "        j=cursor.execute(sql)\n",
    "        \n",
    "        print(\"Total number of rows in AWB Courier is - \", cursor.rowcount)\n",
    "        print (\"\\n Printing each row's column values \\n \")\n",
    "        print('{0:<7} {1:<15} {2:<15} {3:<15} {4:<20} {5:<15} {6:<10} {7:<10}'.format('AWB_No','S_Name','SPhNo','Rec_Name','Rec_Addr','Rec_PhNo','Shp_Date','Shp_Time'))\n",
    "        print('-'*110)\n",
    "            \n",
    "        for t in range(j):\n",
    "            p=cursor.fetchone()\n",
    "            print('{0:<7} {1:<15} {2:<15} {3:<15} {4:<20} {5:<15}'.format(p[0],p[1],p[2],p[3],p[4],p[5],p[6],p[7]),end=\"\")\n",
    "            print(p[7],\"    \",p[6])\n",
    "            \n",
    "            \n",
    "              \n",
    "              \n",
    "                \n",
    "    if i==4:\n",
    "        print(\"Connection with database is now Over\")\n",
    "        break\n",
    "\n",
    "cursor.close()\n",
    "conn.close()"
   ]
  },
  {
   "cell_type": "markdown",
   "metadata": {},
   "source": []
  },
  {
   "cell_type": "code",
   "execution_count": null,
   "metadata": {},
   "outputs": [],
   "source": []
  }
 ],
 "metadata": {
  "kernelspec": {
   "display_name": "Python 3",
   "language": "python",
   "name": "python3"
  },
  "language_info": {
   "codemirror_mode": {
    "name": "ipython",
    "version": 3
   },
   "file_extension": ".py",
   "mimetype": "text/x-python",
   "name": "python",
   "nbconvert_exporter": "python",
   "pygments_lexer": "ipython3",
   "version": "3.7.0"
  }
 },
 "nbformat": 4,
 "nbformat_minor": 2
}
