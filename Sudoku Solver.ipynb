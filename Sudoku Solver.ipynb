{
 "cells": [
  {
   "cell_type": "markdown",
   "metadata": {},
   "source": [
    "## Accepting User Input\n"
   ]
  },
  {
   "cell_type": "code",
   "execution_count": 1,
   "metadata": {},
   "outputs": [
    {
     "name": "stdout",
     "output_type": "stream",
     "text": [
      "0 0 0 0 6 0 0 0 0\n",
      "4 0 8 0 0 0 0 5 0\n",
      "0 0 5 0 0 0 9 2 7\n",
      "6 0 0 0 4 3 0 0 5\n",
      "0 0 0 0 0 0 0 1 8 \n",
      "9 0 0 0 5 7 0 0 2\n",
      "0 0 6 0 0 0 3 7 9\n",
      "1 0 9 0 0 0 0 6 0 \n",
      "0 0 0 0 7 0 0 0 0\n"
     ]
    }
   ],
   "source": [
    "li=[ [], [], [], [], [], [], [], [], [] ]\n",
    "for i in range(9):\n",
    "    inp = [int(x) for x in input().split()]\n",
    "    li[i] = inp"
   ]
  },
  {
   "cell_type": "markdown",
   "metadata": {},
   "source": [
    "### Available Puzzle"
   ]
  },
  {
   "cell_type": "code",
   "execution_count": 2,
   "metadata": {},
   "outputs": [
    {
     "name": "stdout",
     "output_type": "stream",
     "text": [
      "[[0 0 0 0 6 0 0 0 0]\n",
      " [4 0 8 0 0 0 0 5 0]\n",
      " [0 0 5 0 0 0 9 2 7]\n",
      " [6 0 0 0 4 3 0 0 5]\n",
      " [0 0 0 0 0 0 0 1 8]\n",
      " [9 0 0 0 5 7 0 0 2]\n",
      " [0 0 6 0 0 0 3 7 9]\n",
      " [1 0 9 0 0 0 0 6 0]\n",
      " [0 0 0 0 7 0 0 0 0]]\n"
     ]
    }
   ],
   "source": [
    "import numpy as np\n",
    "print(np.matrix(li))"
   ]
  },
  {
   "cell_type": "markdown",
   "metadata": {},
   "source": [
    "## Possibility Function"
   ]
  },
  {
   "cell_type": "code",
   "execution_count": 3,
   "metadata": {},
   "outputs": [],
   "source": [
    "def possible(y,x,n):\n",
    "    global li\n",
    "    for i in range(0,9):\n",
    "        if li[y][i]==n:\n",
    "            return False\n",
    "        \n",
    "    for i in range(0,9):\n",
    "        if li[i][x]==n:\n",
    "            return False\n",
    "        \n",
    "    x0 = (x//3)*3\n",
    "    y0 = (y//3)*3\n",
    "    \n",
    "    for i in range(0,3):\n",
    "        for j in range(3):\n",
    "            if li[y0+i][x0+i]==n:\n",
    "                return False\n",
    "    return True"
   ]
  },
  {
   "cell_type": "markdown",
   "metadata": {},
   "source": [
    "#### Trying out Some possibilities"
   ]
  },
  {
   "cell_type": "code",
   "execution_count": 4,
   "metadata": {},
   "outputs": [
    {
     "data": {
      "text/plain": [
       "True"
      ]
     },
     "execution_count": 4,
     "metadata": {},
     "output_type": "execute_result"
    }
   ],
   "source": [
    "possible(4,4,3)"
   ]
  },
  {
   "cell_type": "code",
   "execution_count": 5,
   "metadata": {},
   "outputs": [
    {
     "data": {
      "text/plain": [
       "False"
      ]
     },
     "execution_count": 5,
     "metadata": {},
     "output_type": "execute_result"
    }
   ],
   "source": [
    "possible(8,0,1)"
   ]
  },
  {
   "cell_type": "markdown",
   "metadata": {},
   "source": [
    "## Creating the Solver Function"
   ]
  },
  {
   "cell_type": "code",
   "execution_count": 6,
   "metadata": {},
   "outputs": [],
   "source": [
    "def solve():\n",
    "    global li\n",
    "    for y in range(9):\n",
    "        for x in range(9):\n",
    "            if li[y][x]==0:\n",
    "                for i in range(1,10):\n",
    "                    if possible(y,x,i):\n",
    "                        li[y][x]=i\n",
    "                        solve()\n",
    "                        li[y][x]=0\n",
    "                return\n",
    "            \n",
    "    print(np.matrix(li))\n",
    "    input(\"More Solutions : \")"
   ]
  },
  {
   "cell_type": "code",
   "execution_count": null,
   "metadata": {},
   "outputs": [
    {
     "name": "stdout",
     "output_type": "stream",
     "text": [
      "[[2 1 7 5 6 8 4 9 3]\n",
      " [4 7 8 3 9 2 1 5 6]\n",
      " [3 4 5 6 8 1 9 2 7]\n",
      " [6 9 2 1 4 3 7 8 5]\n",
      " [7 3 4 9 2 6 5 1 8]\n",
      " [9 8 1 4 5 7 6 3 2]\n",
      " [8 5 6 2 1 4 3 7 9]\n",
      " [1 2 9 7 3 5 8 6 4]\n",
      " [5 6 3 8 7 9 2 4 1]]\n",
      "More Solutions : \n",
      "[[2 1 7 5 6 8 4 9 3]\n",
      " [4 7 8 9 3 2 1 5 6]\n",
      " [3 4 5 8 1 6 9 2 7]\n",
      " [6 9 1 2 4 3 7 8 5]\n",
      " [7 2 3 6 9 4 5 1 8]\n",
      " [9 8 4 1 5 7 6 3 2]\n",
      " [8 5 6 4 2 1 3 7 9]\n",
      " [1 3 9 7 8 5 2 6 4]\n",
      " [5 6 2 3 7 9 8 4 1]]\n",
      "More Solutions : \n",
      "[[2 1 7 5 6 9 4 8 3]\n",
      " [4 7 8 3 9 2 1 5 6]\n",
      " [3 6 5 4 8 1 9 2 7]\n",
      " [6 8 2 1 4 3 7 9 5]\n",
      " [7 3 4 9 2 5 6 1 8]\n",
      " [9 4 1 6 5 7 8 3 2]\n",
      " [8 5 6 2 1 4 3 7 9]\n",
      " [1 2 9 7 3 8 5 6 4]\n",
      " [5 9 3 8 7 6 2 4 1]]\n",
      "More Solutions : \n",
      "[[2 1 7 5 6 9 4 8 3]\n",
      " [4 7 8 3 9 2 1 5 6]\n",
      " [3 6 5 4 8 1 9 2 7]\n",
      " [6 8 2 1 4 3 7 9 5]\n",
      " [7 3 4 9 2 6 5 1 8]\n",
      " [9 4 1 8 5 7 6 3 2]\n",
      " [8 5 6 2 1 4 3 7 9]\n",
      " [1 2 9 7 3 5 8 6 4]\n",
      " [5 9 3 6 7 8 2 4 1]]\n",
      "More Solutions : \n",
      "[[2 1 7 5 6 9 8 4 3]\n",
      " [4 3 8 7 9 2 1 5 6]\n",
      " [8 4 5 3 1 6 9 2 7]\n",
      " [6 9 2 1 4 3 7 8 5]\n",
      " [7 5 3 9 2 4 6 1 8]\n",
      " [9 8 1 6 5 7 4 3 2]\n",
      " [5 2 6 4 8 1 3 7 9]\n",
      " [1 7 9 2 3 8 5 6 4]\n",
      " [3 6 4 8 7 5 2 9 1]]\n",
      "More Solutions : \n",
      "[[2 1 7 5 6 9 8 4 3]\n",
      " [4 3 8 7 9 2 1 5 6]\n",
      " [8 4 5 3 1 6 9 2 7]\n",
      " [6 9 2 1 4 3 7 8 5]\n",
      " [7 5 3 9 2 4 6 1 8]\n",
      " [9 8 1 6 5 7 4 3 2]\n",
      " [5 2 6 4 8 1 3 7 9]\n",
      " [1 7 9 8 3 5 2 6 4]\n",
      " [3 6 4 2 7 8 5 9 1]]\n",
      "More Solutions : \n",
      "[[2 1 7 5 6 9 8 4 3]\n",
      " [4 3 8 7 9 2 1 5 6]\n",
      " [8 6 5 3 1 4 9 2 7]\n",
      " [6 8 2 1 4 3 7 9 5]\n",
      " [7 5 3 9 2 6 4 1 8]\n",
      " [9 4 1 8 5 7 6 3 2]\n",
      " [5 2 6 4 8 1 3 7 9]\n",
      " [1 7 9 2 3 8 5 6 4]\n",
      " [3 9 4 6 7 5 2 8 1]]\n",
      "More Solutions : \n",
      "[[2 1 7 5 6 9 8 4 3]\n",
      " [4 3 8 7 9 2 1 5 6]\n",
      " [8 6 5 3 1 4 9 2 7]\n",
      " [6 9 2 1 4 3 7 8 5]\n",
      " [7 5 3 9 2 6 4 1 8]\n",
      " [9 4 1 8 5 7 6 3 2]\n",
      " [5 2 6 4 8 1 3 7 9]\n",
      " [1 7 9 2 3 8 5 6 4]\n",
      " [3 8 4 6 7 5 2 9 1]]\n",
      "More Solutions : \n",
      "[[2 1 7 5 6 9 8 4 3]\n",
      " [4 3 8 7 9 2 1 5 6]\n",
      " [8 6 5 3 1 4 9 2 7]\n",
      " [6 9 2 1 4 3 7 8 5]\n",
      " [7 5 3 9 2 6 4 1 8]\n",
      " [9 8 1 4 5 7 6 3 2]\n",
      " [5 4 6 2 8 1 3 7 9]\n",
      " [1 7 9 8 3 5 2 6 4]\n",
      " [3 2 4 6 7 8 5 9 1]]\n",
      "More Solutions : \n",
      "[[2 1 7 5 6 9 8 4 3]\n",
      " [4 3 8 7 9 2 1 5 6]\n",
      " [8 6 5 4 3 1 9 2 7]\n",
      " [6 2 1 8 4 3 7 9 5]\n",
      " [7 5 3 9 2 6 4 1 8]\n",
      " [9 8 4 1 5 7 6 3 2]\n",
      " [5 4 6 2 1 8 3 7 9]\n",
      " [1 7 9 3 8 5 2 6 4]\n",
      " [3 9 2 6 7 4 5 8 1]]\n",
      "More Solutions : \n",
      "[[2 1 7 5 6 9 8 4 3]\n",
      " [4 7 8 3 9 2 1 5 6]\n",
      " [3 6 5 4 8 1 9 2 7]\n",
      " [6 8 2 1 4 3 7 9 5]\n",
      " [7 9 3 6 2 5 4 1 8]\n",
      " [9 4 1 8 5 7 6 3 2]\n",
      " [8 5 6 2 1 4 3 7 9]\n",
      " [1 2 9 7 3 8 5 6 4]\n",
      " [5 3 4 9 7 6 2 8 1]]\n"
     ]
    }
   ],
   "source": [
    "solve()"
   ]
  },
  {
   "cell_type": "code",
   "execution_count": null,
   "metadata": {},
   "outputs": [],
   "source": [
    " "
   ]
  },
  {
   "cell_type": "code",
   "execution_count": null,
   "metadata": {},
   "outputs": [],
   "source": []
  },
  {
   "cell_type": "code",
   "execution_count": null,
   "metadata": {},
   "outputs": [],
   "source": []
  },
  {
   "cell_type": "code",
   "execution_count": null,
   "metadata": {},
   "outputs": [],
   "source": []
  },
  {
   "cell_type": "code",
   "execution_count": null,
   "metadata": {},
   "outputs": [],
   "source": []
  }
 ],
 "metadata": {
  "kernelspec": {
   "display_name": "Python 3",
   "language": "python",
   "name": "python3"
  },
  "language_info": {
   "codemirror_mode": {
    "name": "ipython",
    "version": 3
   },
   "file_extension": ".py",
   "mimetype": "text/x-python",
   "name": "python",
   "nbconvert_exporter": "python",
   "pygments_lexer": "ipython3",
   "version": "3.7.0"
  }
 },
 "nbformat": 4,
 "nbformat_minor": 2
}
